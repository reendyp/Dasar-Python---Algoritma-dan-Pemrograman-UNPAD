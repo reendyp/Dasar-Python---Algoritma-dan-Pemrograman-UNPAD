{
 "cells": [
  {
   "cell_type": "markdown",
   "metadata": {},
   "source": [
    "OPERASI DASAR ARITMATIKA"
   ]
  },
  {
   "cell_type": "code",
   "execution_count": 1,
   "metadata": {},
   "outputs": [
    {
     "name": "stdout",
     "output_type": "stream",
     "text": [
      "a+b = 13\n"
     ]
    }
   ],
   "source": [
    "\n",
    "a = 10\n",
    "b = 3\n",
    "\n",
    "# operasi penjumlahan\n",
    "\n",
    "z = a+b\n",
    "print('a+b =',z)"
   ]
  },
  {
   "cell_type": "code",
   "execution_count": 2,
   "metadata": {},
   "outputs": [
    {
     "name": "stdout",
     "output_type": "stream",
     "text": [
      "a+b = 7\n"
     ]
    }
   ],
   "source": [
    "# operasi pengurangan\n",
    "a = 10\n",
    "b = -3\n",
    "z = a+b\n",
    "\n",
    "print('a+b =',z)"
   ]
  },
  {
   "cell_type": "code",
   "execution_count": 3,
   "metadata": {},
   "outputs": [
    {
     "name": "stdout",
     "output_type": "stream",
     "text": [
      "a x b = 30\n"
     ]
    }
   ],
   "source": [
    "# operasi perkalian (*)\n",
    "a = 10\n",
    "b = 3\n",
    "\n",
    "z = a*b # use * for dot product\n",
    "print('a x b =',z)\n"
   ]
  },
  {
   "cell_type": "code",
   "execution_count": 8,
   "metadata": {},
   "outputs": [
    {
     "name": "stdout",
     "output_type": "stream",
     "text": [
      "a/b = 3.3333333333333335\n",
      "--bertipe : <class 'float'>\n",
      "dy/dx = 2.0 <class 'float'>\n"
     ]
    }
   ],
   "source": [
    "# operasi pembagian (/)\n",
    "\n",
    "a = 10\n",
    "b = 3\n",
    "\n",
    "z = a/b # use / for fraction\n",
    "# when we use fraction in python, python will be generated (automatic) type of data to float.\n",
    "print('a/b =',z)\n",
    "print('--bertipe :', type(z))\n",
    "\n",
    "y = 4\n",
    "x = 2\n",
    "dydx = 4/2\n",
    "print('dy/dx =', dydx, type(dydx))\n"
   ]
  },
  {
   "cell_type": "code",
   "execution_count": 10,
   "metadata": {},
   "outputs": [
    {
     "name": "stdout",
     "output_type": "stream",
     "text": [
      "a^b = 9\n"
     ]
    }
   ],
   "source": [
    "# operasi pangkat\n",
    "\n",
    "a = 3\n",
    "b = 2\n",
    "z = a**b\n",
    "\n",
    "print('a^b =',z)"
   ]
  },
  {
   "cell_type": "code",
   "execution_count": 9,
   "metadata": {},
   "outputs": [
    {
     "name": "stdout",
     "output_type": "stream",
     "text": [
      "sisa bagi a dengan b = 1\n"
     ]
    }
   ],
   "source": [
    "# operasi modulus (%) = sisa pembagian\n",
    "a = 10\n",
    "b = 3\n",
    "\n",
    "z = 10%3\n",
    "# 10/3 = 9/3 + 1/3\n",
    "# 10/3 = 3 + (1)/3 --> sisa bagi yaitu 1\n",
    "print('sisa bagi a dengan b =',z)\n"
   ]
  },
  {
   "cell_type": "code",
   "execution_count": 15,
   "metadata": {},
   "outputs": [
    {
     "name": "stdout",
     "output_type": "stream",
     "text": [
      "2\n",
      "1.6666666666666667\n",
      "pembulatan dari pembagian a/b 1.666667 yaitu 1.000000 \n"
     ]
    }
   ],
   "source": [
    "# operasi floor division\n",
    "a = 5\n",
    "b = 3\n",
    "\n",
    "z = a%b\n",
    "x = a/b\n",
    "y = a//b\n",
    "print(z)\n",
    "print(x)\n",
    "print('pembulatan dari pembagian a/b %f yaitu %f '% (x,y))"
   ]
  },
  {
   "cell_type": "code",
   "execution_count": 16,
   "metadata": {},
   "outputs": [
    {
     "name": "stdout",
     "output_type": "stream",
     "text": [
      "37.5\n"
     ]
    }
   ],
   "source": [
    "# prioritas perhitungan (operational presedence)\n",
    "'''\n",
    "1. ()\n",
    "2. exponent\n",
    "3. perkalian dan segala teman-temannya (*,/,//,%,**)\n",
    "4. penjumlahan\n",
    "let's do it  bro!\n",
    "'''\n",
    "\n",
    "x = 3\n",
    "y = 2\n",
    "z = 4\n",
    "a = x**y*z+x/y-y%z//x\n",
    "\n",
    "print(a)"
   ]
  },
  {
   "cell_type": "code",
   "execution_count": 5,
   "metadata": {},
   "outputs": [
    {
     "name": "stdout",
     "output_type": "stream",
     "text": [
      "\n",
      "Program Konversi Temperatur\n",
      "\n",
      "Suhu adalah  50.0 celcius\n",
      "Suhu dalam reamur adalah  40.0 reamur\n",
      "suhu dalam fahrenheit adalah  122.0 fahrenheit\n",
      "suhu dalam kelvin adalah  323.0 kelvin\n"
     ]
    }
   ],
   "source": [
    "# latihan operasi matematika\n",
    "\n",
    "# ubah satuan derajat ke satuan derajat lainnya\n",
    "\n",
    "print(\"\\nProgram Konversi Temperatur\\n\")\n",
    "\n",
    "celcius = float(input('Masukkan temperatur dalam celcius :'))\n",
    "\n",
    "print('Suhu adalah ', celcius,'celcius')\n",
    "\n",
    "# => reamur\n",
    "\n",
    "reamur = (4/5)*celcius\n",
    "print('Suhu dalam reamur adalah ', reamur,'reamur')\n",
    "\n",
    "# => fahrenheit\n",
    "fahrenheit = ((9/5)*celcius)+32\n",
    "\n",
    "print('suhu dalam fahrenheit adalah ',fahrenheit,'fahrenheit')\n",
    "\n",
    "# => kelvin\n",
    "\n",
    "kelvin = celcius + 273\n",
    "print('suhu dalam kelvin adalah ', kelvin,'kelvin')\n"
   ]
  },
  {
   "cell_type": "code",
   "execution_count": 7,
   "metadata": {},
   "outputs": [
    {
     "name": "stdout",
     "output_type": "stream",
     "text": [
      "100.0 fahrenheit\n",
      "konversi fahrenheit ke kelvin adalah  310.77777777777777 kelvin\n"
     ]
    }
   ],
   "source": [
    "# latihan konversi\n",
    "\n",
    "fahrenheit = float(input('suhu dalam fahrenheit:'))\n",
    "print(fahrenheit, 'fahrenheit')\n",
    "\n",
    "# => kelvin\n",
    "\n",
    "kelvin = (fahrenheit-32)*5/9+273\n",
    "\n",
    "print('konversi fahrenheit ke kelvin adalah ', kelvin,'kelvin')\n"
   ]
  },
  {
   "cell_type": "code",
   "execution_count": 8,
   "metadata": {},
   "outputs": [
    {
     "name": "stdout",
     "output_type": "stream",
     "text": [
      "suhu dalam fahrenheit adalah  212.0 fahrenheit\n"
     ]
    }
   ],
   "source": [
    "# latihan konversi kelvin -> fahrenheit\n",
    "\n",
    "kelvin = float(input('Masukkan suhu dalam kelvin :'))\n",
    "\n",
    "# fahrenheit -> kelvin\n",
    "\n",
    "fahrenheit = (kelvin-273)*9/5+32\n",
    "\n",
    "print('suhu dalam fahrenheit adalah ', fahrenheit,'fahrenheit')"
   ]
  },
  {
   "cell_type": "code",
   "execution_count": 17,
   "metadata": {},
   "outputs": [
    {
     "name": "stdout",
     "output_type": "stream",
     "text": [
      "4 > 3  True\n",
      "2 > 4 False\n",
      "2 < 4 True\n",
      "4 < 3 True\n",
      "a >= b True\n",
      "b >= a False\n"
     ]
    }
   ],
   "source": [
    "# operasi komparasi\n",
    "\n",
    "# setiap hasil dari operasi komparasi adalah boolean\n",
    "\n",
    "# >,<,>=,<=,==,!=,is, is not\n",
    "\n",
    "a = 4\n",
    "b = 2\n",
    "\n",
    "# lebih dari\n",
    "\n",
    "c = a > 3\n",
    "print('4 > 3 ',c)\n",
    "\n",
    "c1 = b > a\n",
    "print('2 > 4', c1)\n",
    "\n",
    "# kurang dari \n",
    "c2 = b < a\n",
    "print('2 < 4', c2)\n",
    "c3 = a < b\n",
    "print('4 < 3', c2)\n",
    "\n",
    "# lebih dari sama dengan >=\n",
    "\n",
    "d = a >= b\n",
    "print('a >= b',d)\n",
    "d1 = b >= a\n",
    "print('b >= a',d1)\n",
    "# intinya operasi perbandingan sesuai dengan konsep tanda yang ada, > untuk lebih dari, < untuk kurang dari, >= lebih dari sama dengan, <= kurang dari sama dengan,"
   ]
  },
  {
   "cell_type": "code",
   "execution_count": 20,
   "metadata": {},
   "outputs": [
    {
     "name": "stdout",
     "output_type": "stream",
     "text": [
      "data a =  True\n",
      "-------------- NOT\n",
      "data b =  False\n"
     ]
    }
   ],
   "source": [
    "# operasi komparasi\n",
    "\n",
    "# not\n",
    "print('==========NOT==========')\n",
    "a = True\n",
    "b = not a\n",
    "\n",
    "print('data a = ', a)\n",
    "print('-------------- NOT')\n",
    "print('data b = ', b)"
   ]
  },
  {
   "cell_type": "code",
   "execution_count": 24,
   "metadata": {},
   "outputs": [
    {
     "name": "stdout",
     "output_type": "stream",
     "text": [
      "False OR False = False\n",
      "True OR False = True\n",
      "False OR True = True\n",
      "True OR True = True\n"
     ]
    }
   ],
   "source": [
    "# operasi komparasi\n",
    "# x\n",
    "print('==========x==========')\n",
    "a = False\n",
    "b = False\n",
    "c = a or b\n",
    "print(a,'OR',b,'=',c)\n",
    "\n",
    "a = True\n",
    "b = False\n",
    "c = a or b\n",
    "print(a,'OR',b,'=',c)\n",
    "\n",
    "a = False\n",
    "b = True\n",
    "c = a or b\n",
    "print(a,'OR',b,'=',c)\n",
    "\n",
    "a = True\n",
    "b = True\n",
    "c = a or b\n",
    "print(a,'OR',b,'=',c)"
   ]
  },
  {
   "cell_type": "code",
   "execution_count": 26,
   "metadata": {},
   "outputs": [
    {
     "name": "stdout",
     "output_type": "stream",
     "text": [
      "False AND False = False\n",
      "True AND False = False\n",
      "False AND True = False\n",
      "True AND True = True\n"
     ]
    }
   ],
   "source": [
    "# operasi komparasi\n",
    "# and\n",
    "print('==========and==========')\n",
    "a = False\n",
    "b = False\n",
    "c = a and b\n",
    "print(a,'AND',b,'=',c)\n",
    "\n",
    "a = True\n",
    "b = False\n",
    "c = a and b\n",
    "print(a,'AND',b,'=',c)\n",
    "\n",
    "a = False\n",
    "b = True\n",
    "c = a and b\n",
    "print(a,'AND',b,'=',c)\n",
    "\n",
    "a = True\n",
    "b = True\n",
    "c = a and b\n",
    "print(a,'AND',b,'=',c)"
   ]
  },
  {
   "cell_type": "code",
   "execution_count": 27,
   "metadata": {},
   "outputs": [
    {
     "name": "stdout",
     "output_type": "stream",
     "text": [
      "False XOR False = False\n",
      "True XOR False = True\n",
      "False XOR True = True\n",
      "True XOR True = False\n"
     ]
    }
   ],
   "source": [
    "# operasi komparasi\n",
    "# xor\n",
    "print('==========XOR==========')\n",
    "a = False\n",
    "b = False\n",
    "c = a ^ b\n",
    "print(a,'XOR',b,'=',c)\n",
    "\n",
    "a = True\n",
    "b = False\n",
    "c = a ^ b\n",
    "print(a,'XOR',b,'=',c)\n",
    "\n",
    "a = False\n",
    "b = True\n",
    "c = a ^ b\n",
    "print(a,'XOR',b,'=',c)\n",
    "\n",
    "a = True\n",
    "b = True\n",
    "c = a ^ b\n",
    "print(a,'XOR',b,'=',c)"
   ]
  },
  {
   "cell_type": "code",
   "execution_count": 35,
   "metadata": {},
   "outputs": [
    {
     "name": "stdout",
     "output_type": "stream",
     "text": [
      "apakah 4 bilangan positif atau kurang dari 5?\n",
      "kurang dari atau sama dengan 5 = True\n",
      "bilangan positif  = True\n",
      "angka yang anda masukkan = True\n"
     ]
    }
   ],
   "source": [
    "# latihan operasi komparasi dan logika\n",
    "#-----0+++++5------\n",
    "number = float(input('Masukkan angka ='))\n",
    "print('apakah %.f bilangan positif atau kurang dari 5?' % number)\n",
    "\n",
    "ceknumber = number >= 0\n",
    "ceknumber1 = number <= 5\n",
    "\n",
    "print('kurang dari atau sama dengan 5 =', ceknumber1)\n",
    "print('bilangan positif  =', ceknumber)\n",
    "\n",
    "ceknumber2 = ceknumber and ceknumber1\n",
    "print('angka yang anda masukkan =', ceknumber2)\n"
   ]
  },
  {
   "cell_type": "code",
   "execution_count": 5,
   "metadata": {},
   "outputs": [
    {
     "name": "stdout",
     "output_type": "stream",
     "text": [
      "Lebih dari 3 =  True\n",
      "Kurang dari 10 =  True\n",
      "3 < 5.00 < 10\n",
      "angka yang anda masukkan adalah  True\n"
     ]
    }
   ],
   "source": [
    "#-----3+++++10-----\n",
    "\n",
    "a = float(input(\"Masukkan angka =\"))\n",
    "\n",
    "# apakah lebih dari 3\n",
    "a1 = a > 3\n",
    "print(\"Lebih dari 3 = \", a1)\n",
    "a2 = a < 10\n",
    "print(\"Kurang dari 10 = \", a2)\n",
    "isCorrect = a1 and a2\n",
    "print(\"3 < %.2f < 10\" % a)\n",
    "print(\"angka yang anda masukkan adalah \", isCorrect)"
   ]
  },
  {
   "cell_type": "code",
   "execution_count": 19,
   "metadata": {},
   "outputs": [
    {
     "name": "stdout",
     "output_type": "stream",
     "text": [
      "True\n"
     ]
    }
   ],
   "source": [
    "# Latihan 1 \n",
    "# ---- 0 ++++ 5 ----- 8 +++++ 11 -----\n",
    "\n",
    "# buat program untuk ---- 0 +++++ 5 ------\n",
    "\n",
    "a = float(input('Masukkan angka ='))\n",
    "# buat program untuk ---- 0 +++++ 5 ------\n",
    "isCorrect = a > 0 and a < 5\n",
    "# buat program untuk ----- 8 +++++ 5 ------\n",
    "isCorrect2 = a > 8 and a < 11\n",
    "\n",
    "isTrue = isCorrect or isCorrect2\n",
    "\n",
    "print(isTrue)\n",
    "\n",
    "\n"
   ]
  },
  {
   "cell_type": "code",
   "execution_count": 24,
   "metadata": {},
   "outputs": [
    {
     "name": "stdout",
     "output_type": "stream",
     "text": [
      "True\n"
     ]
    }
   ],
   "source": [
    "# Latihan 2\n",
    "# +++++ 0 ------- 5 +++++ 8 ------- 11 +++++++++\n",
    "\n",
    "# buat program untuk ---- 0 +++++ 5 ------\n",
    "\n",
    "a = float(input('Masukkan angka ='))\n",
    "# buat program untuk ---- 0 +++++ 5 ------\n",
    "isCorrect = a < 0 or a > 5\n",
    "# buat program untuk ----- 8 +++++ 5 ------\n",
    "isCorrect2 = a < 8 or a > 11\n",
    "\n",
    "isTrue = isCorrect and isCorrect2\n",
    "\n",
    "print(isTrue)"
   ]
  },
  {
   "cell_type": "code",
   "execution_count": null,
   "metadata": {},
   "outputs": [],
   "source": []
  }
 ],
 "metadata": {
  "kernelspec": {
   "display_name": "Python 3",
   "language": "python",
   "name": "python3"
  },
  "language_info": {
   "codemirror_mode": {
    "name": "ipython",
    "version": 3
   },
   "file_extension": ".py",
   "mimetype": "text/x-python",
   "name": "python",
   "nbconvert_exporter": "python",
   "pygments_lexer": "ipython3",
   "version": "3.11.5"
  }
 },
 "nbformat": 4,
 "nbformat_minor": 2
}
