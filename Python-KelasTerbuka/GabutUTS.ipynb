{
 "cells": [
  {
   "cell_type": "markdown",
   "metadata": {},
   "source": [
    "OPERATOR"
   ]
  },
  {
   "cell_type": "code",
   "execution_count": 1,
   "metadata": {},
   "outputs": [
    {
     "name": "stdout",
     "output_type": "stream",
     "text": [
      "Bilangan1 = 8\n",
      "Bilangan2= 2\n",
      "Penjumlahan = 10\n",
      "Pengurangan = 6\n",
      "Perkalian   = 16\n",
      "Pembagian   = 4.0\n"
     ]
    }
   ],
   "source": [
    "# 1. Menuliskan program untuk menampilkan hasil penjumlahan, pengurangan, perkalian dan pembagian antara 2 bilangan\n",
    "\n",
    "Bilangan1 = 8\n",
    "Bilangan2 = 2\n",
    "\n",
    "Penjumlahan = Bilangan1 + Bilangan2\n",
    "pengurangan = Bilangan1 - Bilangan2\n",
    "perkalian   = Bilangan1*Bilangan2\n",
    "pembagian   = Bilangan1/Bilangan2\n",
    "\n",
    "print(f\"Bilangan1 = {Bilangan1}\")\n",
    "print(f\"Bilangan2 = {Bilangan2}\")\n",
    "\n",
    "print(f\"Penjumlahan = {Penjumlahan}\")\n",
    "print(f\"Pengurangan = {pengurangan}\")\n",
    "print(f\"Perkalian   = {perkalian}\")\n",
    "print(f\"Pembagian   = {pembagian}\")"
   ]
  },
  {
   "cell_type": "code",
   "execution_count": 2,
   "metadata": {},
   "outputs": [
    {
     "name": "stdout",
     "output_type": "stream",
     "text": [
      "Bilangan = 100\n",
      "Hasil akar = 10.0\n"
     ]
    }
   ],
   "source": [
    "# 2. Menampilkan hasil akar\n",
    "\n",
    "x = 100\n",
    "y = x**(0.5)\n",
    "\n",
    "print(f\"Bilangan = {x}\")\n",
    "print(f\"Hasil akar = {y}\")"
   ]
  },
  {
   "cell_type": "code",
   "execution_count": 10,
   "metadata": {},
   "outputs": [
    {
     "name": "stdout",
     "output_type": "stream",
     "text": [
      "Variabel a = 5, b = 8\n",
      "Variabel setelah ditukar a = 8, b = 5\n"
     ]
    }
   ],
   "source": [
    "# 3. Menukar 2 buah bilangan\n",
    "\n",
    "a = 5\n",
    "b = 8\n",
    "\n",
    "a1 = b\n",
    "b1 = a\n",
    "\n",
    "print(f\"Variabel a = {a}, b = {b}\")\n",
    "print(f\"Variabel setelah ditukar a = {a1}, b = {b1}\")"
   ]
  },
  {
   "cell_type": "code",
   "execution_count": 22,
   "metadata": {},
   "outputs": [
    {
     "name": "stdout",
     "output_type": "stream",
     "text": [
      "Bilangan = 6\n",
      "Faktorial = 720\n"
     ]
    }
   ],
   "source": [
    "# 4. Tuliskan program untuk mendapatkan nilai faktorial dari bilangan yang diinputkan\n",
    "\n",
    "x = int(input(\"Masukkan bilangan = \"))\n",
    "\n",
    "fact = 1\n",
    "for i in range(1,x+1):\n",
    "    fact*=i\n",
    "    \n",
    "print(f\"Bilangan = {x}\")\n",
    "print(f\"Faktorial = {fact}\")"
   ]
  },
  {
   "cell_type": "code",
   "execution_count": 27,
   "metadata": {},
   "outputs": [
    {
     "name": "stdout",
     "output_type": "stream",
     "text": [
      "A = 5, B = 6, C = 7\n",
      "Luas segitiga adalah : 14\n"
     ]
    }
   ],
   "source": [
    "# 5. Tuliskan program untuk menghitung luas segitiga\n",
    "\n",
    "A = 5\n",
    "B = 6\n",
    "C = 7\n",
    "print(f\"A = {A}, B = {B}, C = {C}\")\n",
    "s = (A + B + C)/2\n",
    "luas = int((s*(s-A)*(s-B)*(s-C))**(0.5))\n",
    "\n",
    "print(f\"Luas segitiga adalah : {luas}\")"
   ]
  },
  {
   "cell_type": "code",
   "execution_count": 28,
   "metadata": {},
   "outputs": [
    {
     "name": "stdout",
     "output_type": "stream",
     "text": [
      "Kilometer = 3.5\n",
      "Miles = 2.1747985\n"
     ]
    }
   ],
   "source": [
    "#6. Tulis program untuk mengkonversi km ke mil; meter ke inch\n",
    "\n",
    "# 1 km = 0.621371 mil\n",
    "x =  float(input(\"Jarak dalam km = \"))\n",
    "y =  x*0.621371\n",
    "\n",
    "\n",
    "print(f\"Kilometer = {x}\")\n",
    "print(f\"Miles = {y}\")"
   ]
  },
  {
   "cell_type": "markdown",
   "metadata": {},
   "source": [
    "PENGKONDISIAN"
   ]
  },
  {
   "cell_type": "code",
   "execution_count": 29,
   "metadata": {},
   "outputs": [
    {
     "name": "stdout",
     "output_type": "stream",
     "text": [
      "Bilangan = 3\n",
      "Itu bilangan Ganjil ...\n"
     ]
    }
   ],
   "source": [
    "#1. Tuliskan program untuk mengevaluasi apakah bilangan ganjil atau genap\n",
    "\n",
    "x = int(input(\"Bilangan = \"))\n",
    "\n",
    "print(f\"Bilangan = {x}\")\n",
    "\n",
    "if x % 2 != 0:\n",
    "    print(\"Itu bilangan Ganjil ...\")\n",
    "else:\n",
    "    print(\"Itu bilangan Genap ...\")\n",
    "    "
   ]
  },
  {
   "cell_type": "code",
   "execution_count": 14,
   "metadata": {},
   "outputs": [
    {
     "name": "stdout",
     "output_type": "stream",
     "text": [
      "Bilangan = 2\n"
     ]
    }
   ],
   "source": [
    "# 2. Tuliskan program untuk mengevaluasi apakah sebuah bilangan merupakan bilangan prima atau bukan\n",
    "\n",
    "# apa saja syarat bilangan prima? Jadikan kondisi\n",
    "\n",
    "x = int(input(\"Bilangan = \"))\n",
    "print(f\"Bilangan = {x}\")\n",
    "\n",
    "if x > 1:\n",
    "    for i in range(2,x):\n",
    "        if x%i==0:\n",
    "            print(\"Itu bukan bilangan prima\")\n",
    "            break\n",
    "        else:\n",
    "            print(\"Itu merupakan bilangan prima\")\n",
    "else:\n",
    "    print(\"Bukan bilangan prima\")"
   ]
  },
  {
   "cell_type": "code",
   "execution_count": 6,
   "metadata": {},
   "outputs": [
    {
     "name": "stdout",
     "output_type": "stream",
     "text": [
      "Halo saya senang belajar pemrograman Python\n"
     ]
    }
   ],
   "source": [
    "# 3. Tuliskan program untuk menghilangkan karakter tertentu dari kalimat yang diinputkan, misalnya menghilangkan karakter \",\"\n",
    "\n",
    "input_kalimat = input(\"Masukkan kalimat: \")\n",
    "output_kalimat = input_kalimat.replace(\",\",\"\")\n",
    "\n",
    "print(output_kalimat)"
   ]
  },
  {
   "cell_type": "code",
   "execution_count": 15,
   "metadata": {},
   "outputs": [
    {
     "name": "stdout",
     "output_type": "stream",
     "text": [
      "Karakter: g\n",
      "Bukan huruf vokal\n"
     ]
    }
   ],
   "source": [
    "# 4. Tuliskan program untuk mengecek huruf yang diinput merupakan vokal atau konsonan\n",
    "\n",
    "huruf = input(\"Karakter: \")\n",
    "print(f\"Karakter: {huruf}\")\n",
    "if huruf.lower() in ['a', 'i', 'u', 'e', 'o']:\n",
    "    print(\"Merupakan huruf vokal\")\n",
    "else:\n",
    "    print(\"Bukan huruf vokal\")\n",
    "    "
   ]
  },
  {
   "cell_type": "code",
   "execution_count": null,
   "metadata": {},
   "outputs": [],
   "source": [
    "# PENGULANGAN"
   ]
  },
  {
   "cell_type": "code",
   "execution_count": 16,
   "metadata": {},
   "outputs": [
    {
     "name": "stdout",
     "output_type": "stream",
     "text": [
      "fisika\n",
      "fisika\n",
      "fisika\n",
      "fisika\n",
      "fisika\n",
      "fisika\n",
      "fisika\n",
      "fisika\n",
      "fisika\n",
      "fisika\n"
     ]
    }
   ],
   "source": [
    "# 1. Menuliskan program mencetak 10 kata fisika\n",
    "\n",
    "for i in range(0,10):\n",
    "    print(\"fisika\")"
   ]
  },
  {
   "cell_type": "code",
   "execution_count": 6,
   "metadata": {},
   "outputs": [
    {
     "name": "stdout",
     "output_type": "stream",
     "text": [
      "1.0\n",
      "3.0\n",
      "6.0\n"
     ]
    }
   ],
   "source": [
    "# 2. Tuliskan program untuk menampilkan jumlah dari n buah bilangan asli\n",
    "\n",
    "# bilangan asli = 1,2,3,4,5,6,7,8,9,10\n",
    "\n",
    "'''\n",
    "b = 1 \n",
    "a = 1\n",
    "\n",
    "\n",
    "un = 1 + (n-1)1\n",
    "un = n \n",
    "\n",
    "sn = n/2 (1 + n)\n",
    "sn = (n**2+n)/2\n",
    "\n",
    "'''\n",
    "\n",
    "n = int(input(\"Banyak suku yang ingin ditotalkan: \"))\n",
    "for i in range(1,n+1):\n",
    "    sn = (i**2+i)/2\n",
    "\n",
    "    print(sn)"
   ]
  },
  {
   "cell_type": "code",
   "execution_count": 34,
   "metadata": {},
   "outputs": [
    {
     "name": "stdout",
     "output_type": "stream",
     "text": [
      "Jumlah suku: 10\n",
      "2 4 6 8 10 "
     ]
    }
   ],
   "source": [
    "# 3. Tuliskan program untuk menuliskan n buah suku deret bilangan genap\n",
    "\n",
    "x = int(input(\"Jumlah suku: \"))\n",
    "print(f\"Jumlah suku: {x}\")\n",
    "\n",
    "for i in range(1,x+1):\n",
    "    if i % 2 == 0:\n",
    "    \n",
    "        print(f\"{i}\", end=\" \")"
   ]
  },
  {
   "cell_type": "code",
   "execution_count": 16,
   "metadata": {},
   "outputs": [
    {
     "name": "stdout",
     "output_type": "stream",
     "text": [
      "Jumlah suku: 10\n",
      "1 3 5 7 9 "
     ]
    }
   ],
   "source": [
    "# 4. Tuliskan program untuk menuliskan n buah suku deret bilangan ganjil\n",
    "\n",
    "x = int(input(\"Jumlah suku: \"))\n",
    "print(f\"Jumlah suku: {x}\")\n",
    "\n",
    "for i in range(1,x+1):\n",
    "    if i % 2 != 0:\n",
    "    \n",
    "\n",
    "        print(f\"{i}\", end=\" \")"
   ]
  },
  {
   "cell_type": "code",
   "execution_count": 1,
   "metadata": {},
   "outputs": [
    {
     "name": "stdout",
     "output_type": "stream",
     "text": [
      "Jumlah suku: 10\n",
      "2 3 5 7 "
     ]
    }
   ],
   "source": [
    "# 5. Tuliskan program untuk menuliskan n buah suku deret bilangan prima\n",
    "\n",
    "#syarat bilangan prima\n",
    "# bilangan prima hanya punya dua faktor\n",
    "# angka itu sendiri dan angka 1\n",
    "\n",
    "x = int(input(\"Jumlah suku: \"))\n",
    "print(f\"Jumlah suku: {x}\")\n",
    "\n",
    "for i in range(2,x+1):\n",
    "    if i > 1:\n",
    "        for j in range(2,i):\n",
    "            if i%j ==0 :\n",
    "                break\n",
    "        else:\n",
    "            print(i,end=\" \")\n"
   ]
  },
  {
   "cell_type": "code",
   "execution_count": 30,
   "metadata": {},
   "outputs": [
    {
     "name": "stdout",
     "output_type": "stream",
     "text": [
      "1 1 2 3 5 8 13 21 34 55 89 144 "
     ]
    }
   ],
   "source": [
    "# 6. Tuliskan program untuk menuliskan n buah suku deret bilangan Fibonacci\n",
    "a = 1\n",
    "b = 1\n",
    "\n",
    "jumlah_suku = int(input(\"Masukkan jumlah suku: \"))\n",
    "print(a, b, end=\" \")\n",
    "\n",
    "for i in range(jumlah_suku):\n",
    "    a, b = b, a + b\n",
    "    print(b, end=\" \")\n"
   ]
  },
  {
   "cell_type": "code",
   "execution_count": 53,
   "metadata": {},
   "outputs": [
    {
     "name": "stdout",
     "output_type": "stream",
     "text": [
      "**** \n",
      "**** *** \n",
      "**** *** ** \n",
      "**** *** ** * \n"
     ]
    }
   ],
   "source": [
    "# 8. Buatlah program untuk menampilkan pola\n",
    "\n",
    "for i in range(1,5):\n",
    "    for j in range(1,i+1):\n",
    "        if j == 1:\n",
    "            print(4*\"*\",end=\" \")\n",
    "        elif j == 2:\n",
    "            print(3*\"*\", end=\" \")\n",
    "        elif j == 3:\n",
    "            print(2*\"*\",end=\" \")\n",
    "        elif j == 4:\n",
    "            print(1*\"*\",end=\" \")\n",
    "    print()"
   ]
  },
  {
   "cell_type": "code",
   "execution_count": 8,
   "metadata": {},
   "outputs": [
    {
     "name": "stdout",
     "output_type": "stream",
     "text": [
      "* * * * * \n",
      "* * * * * \n",
      "* * * * * \n",
      "* * * * * \n"
     ]
    }
   ],
   "source": [
    "# 10. Buat program untuk menampilkan pola\n",
    "for i in range(0,4):\n",
    "    print(\"* \"*5)"
   ]
  },
  {
   "cell_type": "code",
   "execution_count": 9,
   "metadata": {},
   "outputs": [
    {
     "name": "stdout",
     "output_type": "stream",
     "text": [
      "1 \n",
      "1 2 \n",
      "1 2 3 \n",
      "1 2 3 4 \n"
     ]
    }
   ],
   "source": [
    "# 13. Program untuk menampilkan pola\n",
    "# pengulangan didalam pengulangan\n",
    "\n",
    "for i in range(1,5):\n",
    "    for j in range(1,i+1):\n",
    "        print(j, end=\" \")\n",
    "    print()"
   ]
  },
  {
   "cell_type": "code",
   "execution_count": 48,
   "metadata": {},
   "outputs": [
    {
     "name": "stdout",
     "output_type": "stream",
     "text": [
      "* \n",
      "* * \n",
      "* * * \n",
      "* * * * \n"
     ]
    }
   ],
   "source": [
    "# pengulangan didalam pengulangan\n",
    "\n",
    "for i in range(1,5):\n",
    "    for j in range(1,i+1):\n",
    "        print(\"*\", end=\" \")\n",
    "    print()"
   ]
  },
  {
   "cell_type": "code",
   "execution_count": 45,
   "metadata": {},
   "outputs": [
    {
     "name": "stdout",
     "output_type": "stream",
     "text": [
      "A \n",
      "B B \n",
      "C C C \n",
      "D D D D \n"
     ]
    }
   ],
   "source": [
    "# 14. Buatlah program untuk membuat pola\n",
    "\n",
    "for i in range(1,5):\n",
    "    for j in range(1,i+1):\n",
    "        if i == 1:\n",
    "            print(\"A\",end=\" \")\n",
    "        elif i == 2:\n",
    "            print(\"B\",end=\" \")\n",
    "        elif i == 3:\n",
    "            print(\"C\",end=\" \")\n",
    "        elif i == 4:\n",
    "            print(\"D\",end=\" \")\n",
    "    print()"
   ]
  },
  {
   "cell_type": "code",
   "execution_count": null,
   "metadata": {},
   "outputs": [],
   "source": [
    "# D. Matrik atau Array"
   ]
  },
  {
   "cell_type": "code",
   "execution_count": 56,
   "metadata": {},
   "outputs": [
    {
     "name": "stdout",
     "output_type": "stream",
     "text": [
      "Angka terbesar adalah = 56\n"
     ]
    }
   ],
   "source": [
    "#1. Tuliskan program untuk menemukan bilangan terbesar dari sebuah list / array\n",
    "\n",
    "data = [4,5,7,2,8,9,13,56,43,23]\n",
    "\n",
    "for angka in data:\n",
    "    if angka / 10 > 5:\n",
    "        print(f\"Angka terbesar adalah = {angka}\")"
   ]
  },
  {
   "cell_type": "code",
   "execution_count": 59,
   "metadata": {},
   "outputs": [
    {
     "ename": "ModuleNotFoundError",
     "evalue": "No module named 'NumPy'",
     "output_type": "error",
     "traceback": [
      "\u001b[1;31m---------------------------------------------------------------------------\u001b[0m",
      "\u001b[1;31mModuleNotFoundError\u001b[0m                       Traceback (most recent call last)",
      "Cell \u001b[1;32mIn[59], line 4\u001b[0m\n\u001b[0;32m      1\u001b[0m \u001b[38;5;66;03m#2. Tuliskan program untuk menampilkan penjumlahan, pengurangan, perkalian, dan pembagian komponen dari matriks (perkalian dot matriks)\u001b[39;00m\n\u001b[0;32m      2\u001b[0m \n\u001b[0;32m      3\u001b[0m \u001b[38;5;66;03m# penjumlahan matriks = [[a,b],[c,d]] + [[e,f],[g,h]] = [[a+e,b+f],[c+g,d+h]]\u001b[39;00m\n\u001b[1;32m----> 4\u001b[0m \u001b[38;5;28;01mimport\u001b[39;00m \u001b[38;5;21;01mNumPy\u001b[39;00m \u001b[38;5;28;01mas\u001b[39;00m \u001b[38;5;21;01mnp\u001b[39;00m\n\u001b[0;32m      6\u001b[0m data1 \u001b[38;5;241m=\u001b[39m np\u001b[38;5;241m.\u001b[39marray([[\u001b[38;5;241m1\u001b[39m,\u001b[38;5;241m2\u001b[39m],[\u001b[38;5;241m1\u001b[39m,\u001b[38;5;241m2\u001b[39m]])\n\u001b[0;32m      7\u001b[0m data2 \u001b[38;5;241m=\u001b[39m np\u001b[38;5;241m.\u001b[39marray([[\u001b[38;5;241m2\u001b[39m,\u001b[38;5;241m4\u001b[39m],[\u001b[38;5;241m10\u001b[39m,\u001b[38;5;241m20\u001b[39m]])\n",
      "\u001b[1;31mModuleNotFoundError\u001b[0m: No module named 'NumPy'"
     ]
    }
   ],
   "source": [
    "#2. Tuliskan program untuk menampilkan penjumlahan, pengurangan, perkalian, dan pembagian komponen dari matriks (perkalian dot matriks)\n",
    "\n",
    "# penjumlahan matriks = [[a,b],[c,d]] + [[e,f],[g,h]] = [[a+e,b+f],[c+g,d+h]]\n",
    "import NumPy as np\n",
    "\n",
    "data1 = np.array([[1,2],[1,2]])\n",
    "data2 = np.array([[2,4],[10,20]])\n",
    "\n",
    "data_sum = data1+data2\n",
    "print(f\"Penjumlahan data1 dengan data2 = {data_sum}\")"
   ]
  }
 ],
 "metadata": {
  "kernelspec": {
   "display_name": "Python 3",
   "language": "python",
   "name": "python3"
  },
  "language_info": {
   "codemirror_mode": {
    "name": "ipython",
    "version": 3
   },
   "file_extension": ".py",
   "mimetype": "text/x-python",
   "name": "python",
   "nbconvert_exporter": "python",
   "pygments_lexer": "ipython3",
   "version": "3.11.7"
  }
 },
 "nbformat": 4,
 "nbformat_minor": 2
}
